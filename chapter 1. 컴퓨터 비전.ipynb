{
 "cells": [
  {
   "cell_type": "markdown",
   "id": "546ac8e1",
   "metadata": {},
   "source": [
    "# 1. 컴퓨터 비전이란?\n",
    "\n",
    "## 인간의 시각을 흉내 내는 컴퓨터 프로그램."
   ]
  },
  {
   "cell_type": "markdown",
   "id": "453e4df8",
   "metadata": {},
   "source": [
    "# 2. 응용 분야\n",
    "\n",
    "## 농업, 의료, 교통, 스마트 공장, 스포츠, 유통, 보안, 에너지, 엔터테인먼트, 환경, 우주과학, 감시, 예술, 가사, 휴머노이드 로봇\n",
    "\n",
    "### 현재 관심있는 분야 : 교통, 보안, 감시 정도??"
   ]
  },
  {
   "cell_type": "markdown",
   "id": "b8860a60",
   "metadata": {},
   "source": [
    "## 역사 및 발전 과정은 책으로 확인"
   ]
  },
  {
   "cell_type": "code",
   "execution_count": null,
   "id": "bab6f812",
   "metadata": {},
   "outputs": [],
   "source": []
  }
 ],
 "metadata": {
  "kernelspec": {
   "display_name": "Python 3 (ipykernel)",
   "language": "python",
   "name": "python3"
  },
  "language_info": {
   "codemirror_mode": {
    "name": "ipython",
    "version": 3
   },
   "file_extension": ".py",
   "mimetype": "text/x-python",
   "name": "python",
   "nbconvert_exporter": "python",
   "pygments_lexer": "ipython3",
   "version": "3.11.2"
  }
 },
 "nbformat": 4,
 "nbformat_minor": 5
}
