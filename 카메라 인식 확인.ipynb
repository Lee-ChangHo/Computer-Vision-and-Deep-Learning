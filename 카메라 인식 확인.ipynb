{
 "cells": [
  {
   "cell_type": "code",
   "execution_count": null,
   "id": "a54757c2",
   "metadata": {},
   "outputs": [],
   "source": [
    "import cv2 as cv\n",
    "import numpy as np\n",
    "import sys \n",
    "\n",
    "cap = cv.VideoCapture(0, cv.CAP_DSHOW)\n",
    "\n",
    "if not cap.isOpened():\n",
    "    sys.exit('카메라 연결 실패')\n",
    "    \n",
    "frams=[]\n",
    "while True:\n",
    "    ret, frame = cap.read()\n",
    "    \n",
    "    if not ret:\n",
    "        print('프레임 획득에 실패하여 루프를 나갑니다.')\n",
    "        break\n",
    "        \n",
    "    cv.imshow('Video display', frame)\n",
    "    \n",
    "    key = cv.waitKey(1)\n",
    "    if key == ord('c'):\n",
    "        frames.append(frame)\n",
    "    elif key == ord('q'):\n",
    "        break\n",
    "        \n",
    "cap.release()\n",
    "cv.destroyAllWindows()\n",
    "\n",
    "if len(frames)>0:\n",
    "    imgs=frames[0]\n",
    "    for i in range(1, min(3, len(frams))):\n",
    "        imgs = np.hstack((imgs, frames[i]))\n",
    "        \n",
    "    cv2.imshow('collected images', imgs)\n",
    "    \n",
    "cv2.waitKey()\n",
    "cv.destroyAllWindows()"
   ]
  },
  {
   "cell_type": "code",
   "execution_count": null,
   "id": "c40ff9da",
   "metadata": {},
   "outputs": [],
   "source": []
  }
 ],
 "metadata": {
  "kernelspec": {
   "display_name": "Python 3 (ipykernel)",
   "language": "python",
   "name": "python3"
  },
  "language_info": {
   "codemirror_mode": {
    "name": "ipython",
    "version": 3
   },
   "file_extension": ".py",
   "mimetype": "text/x-python",
   "name": "python",
   "nbconvert_exporter": "python",
   "pygments_lexer": "ipython3",
   "version": "3.11.2"
  }
 },
 "nbformat": 4,
 "nbformat_minor": 5
}
