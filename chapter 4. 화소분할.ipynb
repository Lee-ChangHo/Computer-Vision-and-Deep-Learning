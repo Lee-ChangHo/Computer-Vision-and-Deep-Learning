{
 "cells": [
  {
   "cell_type": "markdown",
   "id": "ad2bafef",
   "metadata": {},
   "source": [
    "## 4. 화소 분할 \n",
    "\n",
    "### 4-1. SLIC 알고리즘을 이용한 슈퍼화소 분할"
   ]
  },
  {
   "cell_type": "code",
   "execution_count": 12,
   "id": "285b8bfc",
   "metadata": {},
   "outputs": [],
   "source": [
    "import skimage\n",
    "import numpy as np\n",
    "import cv2\n",
    "\n",
    "# skimage를 사용할때는 skimage.data.~~~()처럼 해야함.\n",
    "img = skimage.data.coffee()\n",
    "cv2.imshow('Coffee image', cv2.cvtColor(img, cv2.COLOR_RGB2BGR))\n",
    "\n",
    "\n",
    "slic1 = skimage.segmentation.slic(img, compactness = 20, n_segments = 600)\n",
    "sp_img1 = skimage.segmentation.mark_boundaries(img, slic1)\n",
    "sp_img1 = np.uint8(sp_img1*255.0)\n",
    "\n",
    "slic2 = skimage.segmentation.slic(img, compactness = 40, n_segments = 600)\n",
    "sp_img2 = skimage.segmentation.mark_boundaries(img, slic2)\n",
    "sp_img2 = np.uint8(sp_img2*255.0)\n",
    "\n",
    "cv2.imshow('Super pixels (compact 20)', cv2.cvtColor(sp_img1, cv2.COLOR_RGB2BGR))\n",
    "cv2.imshow('Super pixels (compact 40)', cv2.cvtColor(sp_img2, cv2.COLOR_RGB2BGR))\n",
    "\n",
    "cv2.waitKey()\n",
    "cv2.destroyAllWindows()"
   ]
  },
  {
   "cell_type": "markdown",
   "id": "227f95aa",
   "metadata": {},
   "source": [
    "## 4-2. 정규화 절단 알고리즘을 이용한 영역 분할"
   ]
  },
  {
   "cell_type": "markdown",
   "id": "8d7d9577",
   "metadata": {},
   "source": [
    "### 참고 링크 출처 : (https://runebook.dev/ko/docs/scikit_image/api/skimage.future.graph)"
   ]
  },
  {
   "cell_type": "markdown",
   "id": "9472de2d",
   "metadata": {},
   "source": [
    "## skimage.future.graphs. ~~~ 기능은 skimage==0.18.3 버전 이후로 삭제됨 \n",
    "\n",
    "## 출력이미지의 결과는 앞서 SLIC 알고리즘으로 자른 이미지에서 좀 더 정규화되어 물체를 기준으로 배경과 절단 된 이미지로 나온다."
   ]
  },
  {
   "cell_type": "code",
   "execution_count": null,
   "id": "4d73f991",
   "metadata": {},
   "outputs": [],
   "source": [
    "import skimage\n",
    "import numpy as np\n",
    "import cv2\n",
    "import time\n",
    "\n",
    "coffee = skimage.data.coffee()\n",
    "\n",
    "start = time.time()\n",
    "slic = skimage.segmentation.slic(coffee, compactness=20, n_segments=600, start_label=1)\n",
    "\n",
    "g = skimage.future.graphs.rag_mean_color(coffee, slic, mode='similarity')\n",
    "ncut = skimage.future.graphs.cut_normalized(slic, g)  # 정규화 절단\n",
    "\n",
    "print(coffee.shape, 'Coffee 영상을 분할하는 데', time.time() - start, '초 소요')\n",
    "\n",
    "marking = skimage.segmentation.mark_boundaries(coffee, ncut)\n",
    "ncut_coffee = np.uint8(marking * 255.0)\n",
    "\n",
    "cv2.imshow('Normalized cut', cv2.cvtColor(ncut_coffee, cv2.COLOR_RGB2BGR))\n",
    "\n",
    "cv2.waitKey()\n",
    "cv2.destroyAllWindows()"
   ]
  },
  {
   "cell_type": "markdown",
   "id": "3c38776c",
   "metadata": {},
   "source": [
    "## 4-3. Grab Cut 물체 분할\n",
    "\n",
    "### 왼클릭으로 칠한 곳은 이미지로 인식\n",
    "### 우클릭으로 칠한 곳은 마스크로 인식 (검은색)"
   ]
  },
  {
   "cell_type": "code",
   "execution_count": null,
   "id": "f30aedd4",
   "metadata": {},
   "outputs": [],
   "source": [
    "import cv2\n",
    "import numpy as np\n",
    "\n",
    "img = cv2.imread('./Data/soccer.jpg')\n",
    "img_show = np.copy(img) # 나중에 덧칠 할 때 쓰기 위해 카피본 생성\n",
    "\n",
    "mask = np.zeros((img.shape[0], img.shape[1]), np.uint8)\n",
    "mask[:,:] = cv2.GC_PR_BGD # 모든 화소를 배경으로 생각하기 위해 배경일 것 같음으로 초기화\n",
    "\n",
    "BrushSiz = 9\n",
    "LColor, RColor = (255,0,0), (0,0,255)\n",
    "\n",
    "def painting(event, x, y, flags, param):\n",
    "    if event == cv2.EVENT_LBUTTONDOWN:\n",
    "        cv2.circle(img_show,(x,y),BrushSiz,LColor,-1)\n",
    "        cv2.circle(mask,(x,y),BrushSiz,cv2.GC_FGD,-1)\n",
    "    elif event == cv2.EVENT_RBUTTONDOWN:\n",
    "        cv2.circle(img_show,(x,y),BrushSiz,RColor,-1)\n",
    "        cv2.circle(mask,(x,y),BrushSiz,cv2.GC_BGD,-1)\n",
    "    elif event == cv2.EVENT_MOUSEMOVE and flags == cv2.EVENT_FLAG_LBUTTON:\n",
    "        cv2.circle(img_show,(x,y),BrushSiz,LColor,-1)\n",
    "        cv2.circle(mask,(x,y),BrushSiz,cv2.GC_FGD,-1)\n",
    "    elif event == cv2.EVENT_MOUSEMOVE and flags == cv2.EVENT_FLAG_RBUTTON:\n",
    "        cv2.circle(img_show,(x,y),BrushSiz,RColor,-1)\n",
    "        cv2.circle(mask,(x,y),BrushSiz,cv2.GC_BGD,-1)\n",
    "\n",
    "        \n",
    "    cv2.imshow('Painting', img_show)\n",
    "        \n",
    "cv2.namedWindow('Painting')\n",
    "cv2.setMouseCallback('Painting', painting)\n",
    "    \n",
    "while(True):\n",
    "    if cv2.waitKey(1) == ord('q'):\n",
    "        break\n",
    "        \n",
    "# 여기부터가 제대로 GrabCut 을 적용하는 코드\n",
    "background = np.zeros((1,65),np.float64) # 배경 히스토그램을 0으로 초기화\n",
    "foreground = np.zeros((1,65),np.float64) # 물체 히스토그램을 0으로 초기화\n",
    "\n",
    "cv2.grabCut(img, mask, None, background, foreground, 5, cv2.GC_INIT_WITH_MASK)\n",
    "mask2 = np.where((mask==cv2.GC_BGD) | (mask==cv2.GC_PR_BGD), 0, 1).astype('uint8')\n",
    "grab = img*mask2[:,:,np.newaxis]\n",
    "cv2.imshow('GranCut image', grab)\n",
    "    \n",
    "cv2.waitKey()\n",
    "cv2.destroyAllWindows()"
   ]
  },
  {
   "cell_type": "markdown",
   "id": "876e1e3f",
   "metadata": {},
   "source": [
    "##  4-4. 이진 영역 추출"
   ]
  },
  {
   "cell_type": "code",
   "execution_count": 1,
   "id": "5b6b7a2e",
   "metadata": {},
   "outputs": [
    {
     "name": "stdout",
     "output_type": "stream",
     "text": [
      "면적= 42390.0 \n",
      "중점=( 187.72464024534088 , 144.43640402610677 ) \n",
      "둘레= 2296.7291333675385 \n",
      "둥근 정도= 0.1009842680321435\n"
     ]
    }
   ],
   "source": [
    "import skimage\n",
    "import numpy as np\n",
    "import cv2\n",
    "\n",
    "orig = skimage.data.horse()\n",
    "img = 255-np.uint8(orig)*255\n",
    "cv2.imshow('Horse', img)\n",
    "\n",
    "contours, hierarchy = cv2.findContours(img, cv2.RETR_EXTERNAL, cv2.CHAIN_APPROX_NONE)\n",
    "\n",
    "img2 = cv2.cvtColor(img, cv2.COLOR_GRAY2BGR)\n",
    "cv2.drawContours(img2, contours, -1, (255, 0, 255), 2)\n",
    "cv2.imshow('Horse with contour', img2)\n",
    "\n",
    "contour = contours[0]\n",
    "\n",
    "m = cv2.moments(contour)\n",
    "area = cv2.contourArea(contour)\n",
    "cx, cy = m['m10']/m['m00'],m['m01']/m['m00']\n",
    "perimeter = cv2.arcLength(contour, True)\n",
    "roundness = (4.0 * np.pi*area)/(perimeter*perimeter)\n",
    "print('면적=', area, '\\n중점=(',cx, ',', cy,')', '\\n둘레=',perimeter, '\\n둥근 정도=',roundness)\n",
    "\n",
    "img3 = cv2.cvtColor(img, cv2.COLOR_GRAY2BGR)\n",
    "\n",
    "contour_approx = cv2.approxPolyDP(contour, 8, True)\n",
    "cv2.drawContours(img3, [contour_approx], -1, (0, 255, 0), 2)\n",
    "\n",
    "hull = cv2.convexHull(contour)\n",
    "hull = hull.reshape(1, hull.shape[0], hull.shape[2])\n",
    "cv2.drawContours(img3, hull, -1, (0, 0, 255), 2)\n",
    "\n",
    "cv2.imshow('Horse with line segments and convex hull', img3)\n",
    "\n",
    "cv2.waitKey()\n",
    "cv2.destroyAllWindows()"
   ]
  },
  {
   "cell_type": "code",
   "execution_count": null,
   "id": "149eb2ef",
   "metadata": {},
   "outputs": [],
   "source": []
  }
 ],
 "metadata": {
  "kernelspec": {
   "display_name": "Python 3 (ipykernel)",
   "language": "python",
   "name": "python3"
  },
  "language_info": {
   "codemirror_mode": {
    "name": "ipython",
    "version": 3
   },
   "file_extension": ".py",
   "mimetype": "text/x-python",
   "name": "python",
   "nbconvert_exporter": "python",
   "pygments_lexer": "ipython3",
   "version": "3.11.2"
  }
 },
 "nbformat": 4,
 "nbformat_minor": 5
}
